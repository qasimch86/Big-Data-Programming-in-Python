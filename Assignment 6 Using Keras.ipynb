{
 "cells": [
  {
   "cell_type": "code",
   "execution_count": 6,
   "metadata": {},
   "outputs": [],
   "source": [
    "import numpy as np\n",
    "import cv2\n",
    "import os\n",
    "import tensorflow as tf\n"
   ]
  },
  {
   "cell_type": "code",
   "execution_count": 13,
   "metadata": {},
   "outputs": [],
   "source": [
    "train = 'walk_or_run_train/train'\n",
    "test = 'walk_or_run_test/test'\n",
    "categories = ['walk','run']\n",
    "img_size=50"
   ]
  },
  {
   "cell_type": "code",
   "execution_count": 16,
   "metadata": {},
   "outputs": [],
   "source": [
    "training_data=[]\n",
    "test_data=[]"
   ]
  },
  {
   "cell_type": "code",
   "execution_count": 17,
   "metadata": {},
   "outputs": [],
   "source": [
    "def create_training_data():\n",
    "    for category in categories:\n",
    "        path=os.path.join(train, category)\n",
    "        class_num=categories.index(category)\n",
    "        for img in os.listdir(path):\n",
    "            try:\n",
    "                img_array = cv2.imread(os.path.join(path,img), cv2.IMREAD_GRAYSCALE)\n",
    "                new_array=cv2.resize(img_array, (img_size, img_size))\n",
    "                training_data.append([new_array,class_num])\n",
    "            except Exception as e:\n",
    "                pass\n",
    "\n",
    "create_training_data()"
   ]
  },
  {
   "cell_type": "code",
   "execution_count": 18,
   "metadata": {},
   "outputs": [
    {
     "data": {
      "text/plain": [
       "600"
      ]
     },
     "execution_count": 18,
     "metadata": {},
     "output_type": "execute_result"
    }
   ],
   "source": [
    "len(training_data)"
   ]
  },
  {
   "cell_type": "code",
   "execution_count": 19,
   "metadata": {},
   "outputs": [],
   "source": [
    "def create_test_data():\n",
    "    for category in categories:\n",
    "        path=os.path.join(DATADIR_TEST, category)\n",
    "        class_num=CATEGORIES.index(category)\n",
    "        for img in os.listdir(path):\n",
    "            try:\n",
    "                img_array = cv2.imread(os.path.join(path,img), cv2.IMREAD_GRAYSCALE)\n",
    "                new_array=cv2.resize(img_array, (img_size,img_size))\n",
    "                test_data.append([new_array,class_num])\n",
    "            except Exception as e:\n",
    "                pass\n",
    "\n",
    "create_test_data()"
   ]
  },
  {
   "cell_type": "code",
   "execution_count": 20,
   "metadata": {},
   "outputs": [
    {
     "data": {
      "text/plain": [
       "141"
      ]
     },
     "execution_count": 20,
     "metadata": {},
     "output_type": "execute_result"
    }
   ],
   "source": [
    "len(test_data)"
   ]
  },
  {
   "cell_type": "code",
   "execution_count": 60,
   "metadata": {},
   "outputs": [],
   "source": [
    "import random\n",
    "random.shuffle(training_data)\n",
    "random.shuffle(test_data)"
   ]
  },
  {
   "cell_type": "code",
   "execution_count": 82,
   "metadata": {},
   "outputs": [],
   "source": [
    "X_train = []\n",
    "y_train = []"
   ]
  },
  {
   "cell_type": "code",
   "execution_count": 83,
   "metadata": {},
   "outputs": [],
   "source": [
    "for features,label in training_data:\n",
    "    X_train.append(features)\n",
    "    y_train.append(label)"
   ]
  },
  {
   "cell_type": "code",
   "execution_count": 84,
   "metadata": {},
   "outputs": [],
   "source": [
    "X_train = np.array(X_train)\n",
    "y_train = np.array(y_train)"
   ]
  },
  {
   "cell_type": "code",
   "execution_count": 85,
   "metadata": {},
   "outputs": [
    {
     "data": {
      "text/plain": [
       "array([[38, 45, 51, ..., 53, 46, 39],\n",
       "       [41, 47, 61, ..., 60, 49, 41],\n",
       "       [42, 38, 40, ..., 63, 53, 43],\n",
       "       ...,\n",
       "       [21, 30, 57, ..., 28, 23, 21],\n",
       "       [38, 49, 49, ..., 27, 21, 18],\n",
       "       [31, 28, 17, ..., 24, 21, 18]], dtype=uint8)"
      ]
     },
     "execution_count": 85,
     "metadata": {},
     "output_type": "execute_result"
    }
   ],
   "source": [
    "X_train[0]"
   ]
  },
  {
   "cell_type": "code",
   "execution_count": 86,
   "metadata": {},
   "outputs": [],
   "source": [
    "X_test = []\n",
    "y_test = []"
   ]
  },
  {
   "cell_type": "code",
   "execution_count": 87,
   "metadata": {},
   "outputs": [],
   "source": [
    "for features, label in test_data:\n",
    "    X_test.append(features)\n",
    "    y_test.append(label)"
   ]
  },
  {
   "cell_type": "code",
   "execution_count": 88,
   "metadata": {},
   "outputs": [],
   "source": [
    "X_test = np.array(X_test)\n",
    "y_test = np.array(y_test)"
   ]
  },
  {
   "cell_type": "code",
   "execution_count": 89,
   "metadata": {},
   "outputs": [
    {
     "name": "stdout",
     "output_type": "stream",
     "text": [
      "141\n"
     ]
    }
   ],
   "source": [
    "print(len(X_test))"
   ]
  },
  {
   "cell_type": "markdown",
   "metadata": {},
   "source": [
    "Instead of Normalizing the data another alternative is to use Convolutional neural network and maxpooling <br>\n",
    "model.add(Conv2D(256, (3, 3), input_shape=X.shape[1:]))#3x3 filter<br>\n",
    "model.add(Activation('relu'))<br>\n",
    "model.add(MaxPooling2D(pool_size=(2, 2)))<br>"
   ]
  },
  {
   "cell_type": "code",
   "execution_count": 90,
   "metadata": {},
   "outputs": [],
   "source": [
    "X_train=tf.keras.utils.normalize(X_train, axis=1)\n",
    "x_test = tf.keras.utils.normalize(X_test, axis=1)"
   ]
  },
  {
   "cell_type": "code",
   "execution_count": 91,
   "metadata": {},
   "outputs": [],
   "source": [
    "import matplotlib.pyplot as plt"
   ]
  },
  {
   "cell_type": "code",
   "execution_count": 92,
   "metadata": {},
   "outputs": [
    {
     "data": {
      "text/plain": [
       "<matplotlib.image.AxesImage at 0x222273becf8>"
      ]
     },
     "execution_count": 92,
     "metadata": {},
     "output_type": "execute_result"
    },
    {
     "data": {
      "image/png": "[encoded data removed]",
      "text/plain": [
       "<Figure size 432x288 with 1 Axes>"
      ]
     },
     "metadata": {
      "needs_background": "light"
     },
     "output_type": "display_data"
    }
   ],
   "source": [
    "new_array = X_train[5].reshape(img_size,img_size)\n",
    "plt.imshow(new_array,cmap = \"gray\")"
   ]
  },
  {
   "cell_type": "code",
   "execution_count": 93,
   "metadata": {},
   "outputs": [],
   "source": [
    "from tensorflow.keras.models import Sequential\n",
    "from tensorflow import keras\n",
    "from tensorflow.keras.layers import Dense, Activation, Flatten"
   ]
  },
  {
   "cell_type": "markdown",
   "metadata": {},
   "source": [
    "### kernel_initializer is used to create the initail weights and this can be<br>\n",
    "keras.initializers.Zeros()#creates zeros <br>\n",
    "keras.initializers.Ones()#creates ones<br>\n",
    "keras.initializers.RandomUniform(minval=-0.05, maxval=0.05, seed=None)#random numbers between -0.05 to 0.05 <br>\n",
    "keras.initializers.glorot_normal(seed=None)#uses Glorot normal initializer<br>"
   ]
  },
  {
   "cell_type": "markdown",
   "metadata": {},
   "source": [
    "https://keras.io/initializers/"
   ]
  },
  {
   "cell_type": "code",
   "execution_count": 180,
   "metadata": {},
   "outputs": [],
   "source": [
    "model = keras.Sequential([\n",
    "    #first layer\n",
    "    keras.layers.Flatten(input_shape=(50, 50)),#shape of image,\n",
    "    keras.layers.Dense(256, kernel_initializer='random_uniform',bias_initializer='zeros',activation=tf.nn.relu),\n",
    "    #keras.layers.Dense(128,kernel_initializer=keras.initializers.Ones(),bias_initializer='zeros'),\n",
    "    #second layer\n",
    "    keras.layers.Dense(64, activation=tf.nn.relu),\n",
    "    #third layer\n",
    "    keras.layers.Dense(1, activation=tf.nn.sigmoid)\n",
    "])"
   ]
  },
  {
   "cell_type": "code",
   "execution_count": 183,
   "metadata": {},
   "outputs": [],
   "source": [
    "# Define loss and optimizer\n",
    "model.compile(optimizer=tf.train.AdamOptimizer(), \n",
    "              loss='binary_crossentropy',\n",
    "              metrics=['accuracy'])"
   ]
  },
  {
   "cell_type": "code",
   "execution_count": 186,
   "metadata": {},
   "outputs": [
    {
     "name": "stdout",
     "output_type": "stream",
     "text": [
      "Train on 540 samples, validate on 60 samples\n",
      "Epoch 1/30\n",
      "540/540 [==============================] - 0s 347us/step - loss: 0.2511 - acc: 0.9204 - val_loss: 1.0762 - val_acc: 0.4833\n",
      "Epoch 2/30\n",
      "540/540 [==============================] - 0s 366us/step - loss: 0.2458 - acc: 0.9389 - val_loss: 0.9921 - val_acc: 0.5833\n",
      "Epoch 3/30\n",
      "540/540 [==============================] - 0s 385us/step - loss: 0.2340 - acc: 0.9296 - val_loss: 1.0901 - val_acc: 0.5167\n",
      "Epoch 4/30\n",
      "540/540 [==============================] - 0s 393us/step - loss: 0.2349 - acc: 0.9241 - val_loss: 1.1194 - val_acc: 0.4833\n",
      "Epoch 5/30\n",
      "540/540 [==============================] - 0s 333us/step - loss: 0.2576 - acc: 0.9000 - val_loss: 0.9761 - val_acc: 0.6167\n",
      "Epoch 6/30\n",
      "540/540 [==============================] - 0s 329us/step - loss: 0.2312 - acc: 0.9167 - val_loss: 0.9925 - val_acc: 0.5833\n",
      "Epoch 7/30\n",
      "540/540 [==============================] - 0s 357us/step - loss: 0.2322 - acc: 0.9185 - val_loss: 1.2635 - val_acc: 0.4333\n",
      "Epoch 8/30\n",
      "540/540 [==============================] - 0s 320us/step - loss: 0.2417 - acc: 0.9111 - val_loss: 1.0273 - val_acc: 0.6667\n",
      "Epoch 9/30\n",
      "540/540 [==============================] - 0s 337us/step - loss: 0.2774 - acc: 0.8815 - val_loss: 1.0509 - val_acc: 0.6000\n",
      "Epoch 10/30\n",
      "540/540 [==============================] - 0s 275us/step - loss: 0.2498 - acc: 0.9056 - val_loss: 1.0160 - val_acc: 0.5833\n",
      "Epoch 11/30\n",
      "540/540 [==============================] - 0s 313us/step - loss: 0.2119 - acc: 0.9259 - val_loss: 1.0744 - val_acc: 0.6000\n",
      "Epoch 12/30\n",
      "540/540 [==============================] - 0s 275us/step - loss: 0.1960 - acc: 0.9611 - val_loss: 1.1739 - val_acc: 0.5333\n",
      "Epoch 13/30\n",
      "540/540 [==============================] - 0s 310us/step - loss: 0.1975 - acc: 0.9444 - val_loss: 1.0438 - val_acc: 0.6167\n",
      "Epoch 14/30\n",
      "540/540 [==============================] - 0s 386us/step - loss: 0.2113 - acc: 0.9315 - val_loss: 1.2593 - val_acc: 0.4667\n",
      "Epoch 15/30\n",
      "540/540 [==============================] - 0s 384us/step - loss: 0.1975 - acc: 0.9278 - val_loss: 1.2920 - val_acc: 0.4667\n",
      "Epoch 16/30\n",
      "540/540 [==============================] - 0s 313us/step - loss: 0.2262 - acc: 0.9111 - val_loss: 1.0708 - val_acc: 0.6500\n",
      "Epoch 17/30\n",
      "540/540 [==============================] - 0s 373us/step - loss: 0.2090 - acc: 0.9278 - val_loss: 1.0816 - val_acc: 0.5833\n",
      "Epoch 18/30\n",
      "540/540 [==============================] - 0s 420us/step - loss: 0.1759 - acc: 0.9500 - val_loss: 1.2154 - val_acc: 0.5500\n",
      "Epoch 19/30\n",
      "540/540 [==============================] - 0s 357us/step - loss: 0.1568 - acc: 0.9593 - val_loss: 1.3583 - val_acc: 0.4833\n",
      "Epoch 20/30\n",
      "540/540 [==============================] - 0s 367us/step - loss: 0.1543 - acc: 0.9667 - val_loss: 1.1149 - val_acc: 0.5667\n",
      "Epoch 21/30\n",
      "540/540 [==============================] - 0s 369us/step - loss: 0.1545 - acc: 0.9611 - val_loss: 1.2349 - val_acc: 0.5500\n",
      "Epoch 22/30\n",
      "540/540 [==============================] - 0s 340us/step - loss: 0.1602 - acc: 0.9667 - val_loss: 1.3718 - val_acc: 0.4833\n",
      "Epoch 23/30\n",
      "540/540 [==============================] - 0s 301us/step - loss: 0.1624 - acc: 0.9444 - val_loss: 1.1567 - val_acc: 0.6000\n",
      "Epoch 24/30\n",
      "540/540 [==============================] - 0s 307us/step - loss: 0.1319 - acc: 0.9759 - val_loss: 1.2772 - val_acc: 0.5333\n",
      "Epoch 25/30\n",
      "540/540 [==============================] - 0s 436us/step - loss: 0.1361 - acc: 0.9685 - val_loss: 1.3065 - val_acc: 0.5333\n",
      "Epoch 26/30\n",
      "540/540 [==============================] - 0s 368us/step - loss: 0.1296 - acc: 0.9778 - val_loss: 1.2379 - val_acc: 0.6167\n",
      "Epoch 27/30\n",
      "540/540 [==============================] - 0s 334us/step - loss: 0.1339 - acc: 0.9685 - val_loss: 1.1737 - val_acc: 0.6000\n",
      "Epoch 28/30\n",
      "540/540 [==============================] - 0s 450us/step - loss: 0.1295 - acc: 0.9611 - val_loss: 1.1917 - val_acc: 0.5667\n",
      "Epoch 29/30\n",
      "540/540 [==============================] - 0s 444us/step - loss: 0.1299 - acc: 0.9704 - val_loss: 1.3522 - val_acc: 0.5333\n",
      "Epoch 30/30\n",
      "540/540 [==============================] - 0s 477us/step - loss: 0.1100 - acc: 0.9796 - val_loss: 1.2338 - val_acc: 0.6000\n"
     ]
    },
    {
     "data": {
      "text/plain": [
       "<tensorflow.python.keras.callbacks.History at 0x2223f8b3cf8>"
      ]
     },
     "execution_count": 186,
     "metadata": {},
     "output_type": "execute_result"
    }
   ],
   "source": [
    "#train your model\n",
    "model.fit(X_train, y_train, batch_size=100, epochs=30, validation_split=0.1)"
   ]
  },
  {
   "cell_type": "code",
   "execution_count": 187,
   "metadata": {},
   "outputs": [
    {
     "name": "stdout",
     "output_type": "stream",
     "text": [
      "141/141 [==============================] - 0s 700us/step\n",
      "Test accuracy: 0.5673758871589146\n"
     ]
    }
   ],
   "source": [
    "test_loss, test_acc=model.evaluate(x_test,y_test)\n",
    "print('Test accuracy:', test_acc)"
   ]
  },
  {
   "cell_type": "code",
   "execution_count": 191,
   "metadata": {},
   "outputs": [],
   "source": [
    "Y_pred = model.predict_classes(x_test)\n"
   ]
  },
  {
   "cell_type": "code",
   "execution_count": 196,
   "metadata": {},
   "outputs": [
    {
     "name": "stdout",
     "output_type": "stream",
     "text": [
      "Requirement already satisfied: seaborn in c:\\users\\oa87046\\appdata\\local\\continuum\\anaconda3\\lib\\site-packages (0.9.0)\n",
      "Requirement already satisfied: scipy>=0.14.0 in c:\\users\\oa87046\\appdata\\local\\continuum\\anaconda3\\lib\\site-packages (from seaborn) (1.1.0)\n",
      "Requirement already satisfied: pandas>=0.15.2 in c:\\users\\oa87046\\appdata\\local\\continuum\\anaconda3\\lib\\site-packages (from seaborn) (0.23.4)\n",
      "Requirement already satisfied: numpy>=1.9.3 in c:\\users\\oa87046\\appdata\\local\\continuum\\anaconda3\\lib\\site-packages (from seaborn) (1.15.4)\n",
      "Requirement already satisfied: matplotlib>=1.4.3 in c:\\users\\oa87046\\appdata\\local\\continuum\\anaconda3\\lib\\site-packages (from seaborn) (3.0.2)\n",
      "Requirement already satisfied: python-dateutil>=2.5.0 in c:\\users\\oa87046\\appdata\\local\\continuum\\anaconda3\\lib\\site-packages (from pandas>=0.15.2->seaborn) (2.7.5)\n",
      "Requirement already satisfied: pytz>=2011k in c:\\users\\oa87046\\appdata\\local\\continuum\\anaconda3\\lib\\site-packages (from pandas>=0.15.2->seaborn) (2018.7)\n",
      "Requirement already satisfied: cycler>=0.10 in c:\\users\\oa87046\\appdata\\local\\continuum\\anaconda3\\lib\\site-packages (from matplotlib>=1.4.3->seaborn) (0.10.0)\n",
      "Requirement already satisfied: pyparsing!=2.0.4,!=2.1.2,!=2.1.6,>=2.0.1 in c:\\users\\oa87046\\appdata\\local\\continuum\\anaconda3\\lib\\site-packages (from matplotlib>=1.4.3->seaborn) (2.3.0)\n",
      "Requirement already satisfied: kiwisolver>=1.0.1 in c:\\users\\oa87046\\appdata\\local\\continuum\\anaconda3\\lib\\site-packages (from matplotlib>=1.4.3->seaborn) (1.0.1)\n",
      "Requirement already satisfied: six>=1.5 in c:\\users\\oa87046\\appdata\\local\\continuum\\anaconda3\\lib\\site-packages (from python-dateutil>=2.5.0->pandas>=0.15.2->seaborn) (1.11.0)\n",
      "Requirement already satisfied: setuptools in c:\\users\\oa87046\\appdata\\local\\continuum\\anaconda3\\lib\\site-packages (from kiwisolver>=1.0.1->matplotlib>=1.4.3->seaborn) (40.6.2)\n"
     ]
    }
   ],
   "source": [
    "!pip install seaborn"
   ]
  },
  {
   "cell_type": "code",
   "execution_count": 204,
   "metadata": {},
   "outputs": [],
   "source": [
    "matrix=confusion_matrix(y_test, Y_pred)\n"
   ]
  },
  {
   "cell_type": "code",
   "execution_count": 206,
   "metadata": {},
   "outputs": [
    {
     "data": {
      "text/plain": [
       "array([[40, 19],\n",
       "       [42, 40]], dtype=int64)"
      ]
     },
     "execution_count": 206,
     "metadata": {},
     "output_type": "execute_result"
    }
   ],
   "source": [
    "matrix"
   ]
  },
  {
   "cell_type": "code",
   "execution_count": 205,
   "metadata": {},
   "outputs": [
    {
     "ename": "AttributeError",
     "evalue": "'numpy.ndarray' object has no attribute 'plot'",
     "output_type": "error",
     "traceback": [
      "\u001b[1;31m---------------------------------------------------------------------------\u001b[0m",
      "\u001b[1;31mAttributeError\u001b[0m                            Traceback (most recent call last)",
      "\u001b[1;32m<ipython-input-205-6c3715eaf684>\u001b[0m in \u001b[0;36m<module>\u001b[1;34m\u001b[0m\n\u001b[1;32m----> 1\u001b[1;33m \u001b[0mmatrix\u001b[0m\u001b[1;33m.\u001b[0m\u001b[0mplot\u001b[0m\u001b[1;33m(\u001b[0m\u001b[1;33m)\u001b[0m\u001b[1;33m\u001b[0m\u001b[1;33m\u001b[0m\u001b[0m\n\u001b[0m",
      "\u001b[1;31mAttributeError\u001b[0m: 'numpy.ndarray' object has no attribute 'plot'"
     ]
    }
   ],
   "source": [
    "matrix.plot()"
   ]
  },
  {
   "cell_type": "code",
   "execution_count": null,
   "metadata": {},
   "outputs": [],
   "source": []
  }
 ],
 "metadata": {
  "kernelspec": {
   "display_name": "Python 3",
   "language": "python",
   "name": "python3"
  },
  "language_info": {
   "codemirror_mode": {
    "name": "ipython",
    "version": 3
   },
   "file_extension": ".py",
   "mimetype": "text/x-python",
   "name": "python",
   "nbconvert_exporter": "python",
   "pygments_lexer": "ipython3",
   "version": "3.6.7"
  }
 },
 "nbformat": 4,
 "nbformat_minor": 2
}
