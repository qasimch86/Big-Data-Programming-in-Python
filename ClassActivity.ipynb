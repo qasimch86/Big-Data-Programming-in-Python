{
 "cells": [
  {
   "cell_type": "code",
   "execution_count": 1,
   "metadata": {},
   "outputs": [],
   "source": [
    "from sklearn.feature_extraction import DictVectorizer\n",
    "vec=DictVectorizer()"
   ]
  },
  {
   "cell_type": "code",
   "execution_count": 2,
   "metadata": {},
   "outputs": [],
   "source": [
    "BDA102='Hi Qasim and welcome to Big Data Analytics. My name is Omotayo Akinbode and I will be your instructor for this course. To learn more about my background, check out Meet Your Instructor, under the About the Course module.  This course will have a lab coach available to assist you with the lab portion of this course and any software and application questions that you may have.  To contact the Lab Coach, use the lab coach discussion forum.  More details will follow after the start of the course.   Before delving into the course content and learning activities, it is important to be aware of the resources that will be available to you throughout the term. Use these resources to build your learning and time management strategies, so that you can meet the course expectations. Review the Getting Started module to: learn how to navigate your course (A2L Guide) learn how to avoid falling into plagiarism (Academic Integrity Guide) identify library and research resources (Library, Research and Writing Assistance) Review the About the Course module to learn how to:organize your study time and meet all due dates (Detailed Course Schedule) gather the course required materials (Required Materials) reach out when you need help (Contact Information) I also encourage you to introduce yourself to the discussion forum and connect with each other to exchange experiences, study together and discuss further what interests you most about this course. Make the time to take advantage of the networking opportunity of being part of the McMaster’s CCE student community. I’m looking forward to meeting each of you in-class and guiding your learning experience this term.'\n",
    "BDA104='Hi Qasim and welcome to BDA 104 Predictive Modeling and Data Mining. My name is Haitham Amar and I will be your instructor for this course. To learn more about my background, check out Meet Your Instructor, under the About the Course module. Before delving into the course content and learning activities, it is important to be aware of the resources that will be available to you throughout the term. Use these resources to build your learning and time management strategies, so that you can meet the course expectations. Review the Getting Started module to: learn how to navigate your course (A2L Guide) learn how to avoid falling into plagiarism (Academic Integrity Guide) identify library and research resources (Library, Research and Writing Assistance) Review the About the Course module to learn how to: organize your study time and meet all due dates (Detailed Course Schedule) reach out when you need help (Contact Information) I also encourage you to introduce yourself in the Welcome and Introductions discussion forum and connect with each other to exchange experiences, study together and discuss further what interests you most about this course. Make the time to take advantage of the networking opportunity of being part of the McMaster’s CCE student community. I’m looking forward to meeting each of you in-class and guiding your learning experience this term.'\n",
    "BDA=[BDA102,BDA104]"
   ]
  },
  {
   "cell_type": "code",
   "execution_count": 3,
   "metadata": {},
   "outputs": [
    {
     "data": {
      "text/plain": [
       "list"
      ]
     },
     "execution_count": 3,
     "metadata": {},
     "output_type": "execute_result"
    }
   ],
   "source": [
    "type(BDA)"
   ]
  },
  {
   "cell_type": "code",
   "execution_count": 4,
   "metadata": {},
   "outputs": [],
   "source": [
    "from sklearn.feature_extraction.text import CountVectorizer"
   ]
  },
  {
   "cell_type": "code",
   "execution_count": 5,
   "metadata": {},
   "outputs": [],
   "source": [
    "vectorizer=CountVectorizer(ngram_range=(3, 1))"
   ]
  },
  {
   "cell_type": "code",
   "execution_count": 6,
   "metadata": {},
   "outputs": [
    {
     "data": {
      "text/plain": [
       "matrix([[ 0,  1,  4,  1,  1,  1,  1,  1,  1,  1,  0,  1, 12,  1,  1,  1,\n",
       "          1,  2,  1,  1,  1,  0,  3,  1,  1,  1,  1,  1,  1,  1,  1,  3,\n",
       "          1,  1,  2,  1, 12,  1,  1,  1,  1,  1,  1,  2,  1,  2,  1,  1,\n",
       "          1,  1,  1,  1,  1,  1,  2,  1,  1,  1,  1,  2,  1,  0,  2,  1,\n",
       "          1,  3,  1,  1,  1,  1,  2,  1,  1,  2,  1,  0,  2,  1,  4,  4,\n",
       "          3,  2,  1,  1,  1,  2,  1,  1,  3,  1,  0,  0,  3,  2,  1,  2,\n",
       "          1,  1,  1,  1,  7,  1,  1,  1,  1,  2,  1,  1,  1,  0,  1,  1,\n",
       "          1,  2,  2,  3,  2,  1,  1,  1,  1,  1,  1,  1,  2,  1,  2,  3,\n",
       "         19,  1,  5,  1,  3, 17,  1,  1,  2,  1,  1,  1,  4,  2,  1,  8,\n",
       "          6,  1],\n",
       "        [ 1,  1,  4,  1,  1,  1,  0,  0,  1,  1,  1,  0, 12,  0,  0,  0,\n",
       "          1,  1,  1,  1,  1,  1,  3,  1,  1,  0,  1,  1,  1,  1,  1,  0,\n",
       "          1,  1,  1,  1,  8,  1,  1,  1,  1,  0,  1,  1,  1,  2,  1,  1,\n",
       "          1,  1,  1,  1,  0,  1,  1,  1,  1,  0,  1,  2,  1,  1,  0,  1,\n",
       "          1,  3,  1,  1,  2,  1,  2,  1,  1,  2,  1,  1,  2,  1,  0,  4,\n",
       "          3,  2,  1,  1,  1,  0,  0,  1,  3,  1,  1,  1,  3,  1,  1,  2,\n",
       "          1,  1,  1,  1,  5,  0,  1,  1,  1,  2,  1,  1,  0,  1,  1,  0,\n",
       "          1,  0,  2,  3,  2,  1,  1,  0,  0,  1,  1,  1,  2,  1,  2,  2,\n",
       "         13,  1,  3,  1,  3, 14,  1,  1,  1,  2,  1,  1,  2,  1,  1,  6,\n",
       "          6,  1]], dtype=int64)"
      ]
     },
     "execution_count": 6,
     "metadata": {},
     "output_type": "execute_result"
    }
   ],
   "source": [
    "bag_wd=vectorizer.fit_transform(BDA).todense()\n",
    "bag_wd"
   ]
  },
  {
   "cell_type": "code",
   "execution_count": 7,
   "metadata": {},
   "outputs": [
    {
     "name": "stdout",
     "output_type": "stream",
     "text": [
      "{'hi': 64, 'qasim': 110, 'and': 12, 'welcome': 137, 'to': 133, 'big': 25, 'data': 37, 'analytics': 11, 'my': 95, 'name': 96, 'is': 76, 'omotayo': 101, 'akinbode': 7, 'will': 140, 'be': 22, 'your': 144, 'instructor': 70, 'for': 53, 'this': 130, 'course': 36, 'learn': 79, 'more': 93, 'about': 2, 'background': 20, 'check': 29, 'out': 105, 'meet': 88, 'under': 135, 'the': 128, 'module': 92, 'have': 62, 'lab': 78, 'coach': 31, 'available': 17, 'assist': 15, 'you': 143, 'with': 141, 'portion': 108, 'of': 100, 'any': 13, 'software': 119, 'application': 14, 'questions': 111, 'that': 127, 'may': 86, 'contact': 34, 'use': 136, 'discussion': 43, 'forum': 54, 'details': 41, 'follow': 52, 'after': 6, 'start': 120, 'before': 23, 'delving': 39, 'into': 73, 'content': 35, 'learning': 80, 'activities': 4, 'it': 77, 'important': 67, 'aware': 19, 'resources': 115, 'throughout': 131, 'term': 126, 'these': 129, 'build': 26, 'time': 132, 'management': 84, 'strategies': 122, 'so': 118, 'can': 27, 'expectations': 48, 'review': 116, 'getting': 58, 'started': 121, 'how': 65, 'navigate': 97, 'a2l': 1, 'guide': 59, 'avoid': 18, 'falling': 51, 'plagiarism': 107, 'academic': 3, 'integrity': 71, 'identify': 66, 'library': 81, 'research': 114, 'writing': 142, 'assistance': 16, 'organize': 103, 'study': 124, 'all': 8, 'due': 44, 'dates': 38, 'detailed': 40, 'schedule': 117, 'gather': 57, 'required': 113, 'materials': 85, 'reach': 112, 'when': 139, 'need': 98, 'help': 63, 'information': 69, 'also': 9, 'encourage': 46, 'introduce': 74, 'yourself': 145, 'connect': 33, 'each': 45, 'other': 104, 'exchange': 47, 'experiences': 50, 'together': 134, 'discuss': 42, 'further': 56, 'what': 138, 'interests': 72, 'most': 94, 'make': 83, 'take': 125, 'advantage': 5, 'networking': 99, 'opportunity': 102, 'being': 24, 'part': 106, 'mcmaster': 87, 'cce': 28, 'student': 123, 'community': 32, 'looking': 82, 'forward': 55, 'meeting': 89, 'in': 68, 'class': 30, 'guiding': 60, 'experience': 49, 'bda': 21, '104': 0, 'predictive': 109, 'modeling': 91, 'mining': 90, 'haitham': 61, 'amar': 10, 'introductions': 75}\n"
     ]
    }
   ],
   "source": [
    "print(vectorizer.vocabulary_)"
   ]
  },
  {
   "cell_type": "code",
   "execution_count": 8,
   "metadata": {},
   "outputs": [
    {
     "data": {
      "text/plain": [
       "146"
      ]
     },
     "execution_count": 8,
     "metadata": {},
     "output_type": "execute_result"
    }
   ],
   "source": [
    "len(vectorizer.vocabulary_)"
   ]
  },
  {
   "cell_type": "code",
   "execution_count": 9,
   "metadata": {},
   "outputs": [],
   "source": [
    "import pandas as pd\n",
    "df=pd.DataFrame(bag_wd,columns=vectorizer.get_feature_names())"
   ]
  },
  {
   "cell_type": "code",
   "execution_count": 10,
   "metadata": {},
   "outputs": [],
   "source": [
    "df=df.sum()"
   ]
  },
  {
   "cell_type": "code",
   "execution_count": 12,
   "metadata": {},
   "outputs": [
    {
     "data": {
      "text/plain": [
       "pandas.core.series.Series"
      ]
     },
     "execution_count": 12,
     "metadata": {},
     "output_type": "execute_result"
    }
   ],
   "source": [
    "type(df)"
   ]
  },
  {
   "cell_type": "code",
   "execution_count": 13,
   "metadata": {},
   "outputs": [],
   "source": [
    "df=df.to_frame()"
   ]
  },
  {
   "cell_type": "code",
   "execution_count": 15,
   "metadata": {},
   "outputs": [
    {
     "data": {
      "text/html": [
       "<div>\n",
       "<style scoped>\n",
       "    .dataframe tbody tr th:only-of-type {\n",
       "        vertical-align: middle;\n",
       "    }\n",
       "\n",
       "    .dataframe tbody tr th {\n",
       "        vertical-align: top;\n",
       "    }\n",
       "\n",
       "    .dataframe thead th {\n",
       "        text-align: right;\n",
       "    }\n",
       "</style>\n",
       "<table border=\"1\" class=\"dataframe\">\n",
       "  <thead>\n",
       "    <tr style=\"text-align: right;\">\n",
       "      <th></th>\n",
       "      <th>frequency</th>\n",
       "    </tr>\n",
       "  </thead>\n",
       "  <tbody>\n",
       "    <tr>\n",
       "      <th>104</th>\n",
       "      <td>1</td>\n",
       "    </tr>\n",
       "    <tr>\n",
       "      <th>a2l</th>\n",
       "      <td>2</td>\n",
       "    </tr>\n",
       "    <tr>\n",
       "      <th>about</th>\n",
       "      <td>8</td>\n",
       "    </tr>\n",
       "    <tr>\n",
       "      <th>academic</th>\n",
       "      <td>2</td>\n",
       "    </tr>\n",
       "    <tr>\n",
       "      <th>activities</th>\n",
       "      <td>2</td>\n",
       "    </tr>\n",
       "  </tbody>\n",
       "</table>\n",
       "</div>"
      ],
      "text/plain": [
       "            frequency\n",
       "104                 1\n",
       "a2l                 2\n",
       "about               8\n",
       "academic            2\n",
       "activities          2"
      ]
     },
     "execution_count": 15,
     "metadata": {},
     "output_type": "execute_result"
    }
   ],
   "source": [
    "df.columns=['frequency']\n",
    "df.head()"
   ]
  },
  {
   "cell_type": "code",
   "execution_count": null,
   "metadata": {},
   "outputs": [],
   "source": []
  }
 ],
 "metadata": {
  "kernelspec": {
   "display_name": "Python 3",
   "language": "python",
   "name": "python3"
  },
  "language_info": {
   "codemirror_mode": {
    "name": "ipython",
    "version": 3
   },
   "file_extension": ".py",
   "mimetype": "text/x-python",
   "name": "python",
   "nbconvert_exporter": "python",
   "pygments_lexer": "ipython3",
   "version": "3.6.5"
  }
 },
 "nbformat": 4,
 "nbformat_minor": 2
}
